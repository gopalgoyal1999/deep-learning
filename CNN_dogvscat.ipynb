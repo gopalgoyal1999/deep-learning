{
 "cells": [
  {
   "cell_type": "code",
   "execution_count": 1,
   "metadata": {},
   "outputs": [
    {
     "name": "stderr",
     "output_type": "stream",
     "text": [
      "Using TensorFlow backend.\n"
     ]
    }
   ],
   "source": [
    "from keras.layers import Dense\n",
    "from keras.models import Sequential\n",
    "from keras.layers import Conv2D,MaxPooling2D,Flatten"
   ]
  },
  {
   "cell_type": "code",
   "execution_count": 2,
   "metadata": {},
   "outputs": [],
   "source": [
    "classifier = Sequential()"
   ]
  },
  {
   "cell_type": "code",
   "execution_count": 3,
   "metadata": {},
   "outputs": [
    {
     "name": "stderr",
     "output_type": "stream",
     "text": [
      "E:\\Anaconda3\\lib\\site-packages\\ipykernel_launcher.py:2: UserWarning: Update your `Conv2D` call to the Keras 2 API: `Conv2D(32, (3, 3), activation=\"relu\", input_shape=(64, 64, 3...)`\n",
      "  \n",
      "E:\\Anaconda3\\lib\\site-packages\\ipykernel_launcher.py:8: UserWarning: Update your `Conv2D` call to the Keras 2 API: `Conv2D(32, (3, 3), activation=\"relu\")`\n",
      "  \n"
     ]
    }
   ],
   "source": [
    "#conv first layer\n",
    "classifier.add(Conv2D(32,3,3,activation='relu',input_shape=(64,64,3)))\n",
    "\n",
    "#max pooling\n",
    "classifier.add(MaxPooling2D(pool_size=(2,2)))\n",
    "\n",
    "#conv second layer\n",
    "classifier.add(Conv2D(32,3,3,activation='relu'))\n",
    "\n",
    "#max pooling for second layer\n",
    "classifier.add(MaxPooling2D(pool_size=(2,2)))\n",
    "\n",
    "#flatten layers\n",
    "classifier.add(Flatten())\n",
    "\n",
    "#adding hidden layer\n",
    "classifier.add(Dense(128,activation='relu'))\n",
    "               \n",
    "#adding output layer\n",
    "classifier.add(Dense(1,activation='sigmoid'))\n",
    "\n",
    "classifier.compile(optimizer='adam',loss='binary_crossentropy',metrics=['accuracy'])\n"
   ]
  },
  {
   "cell_type": "code",
   "execution_count": 4,
   "metadata": {},
   "outputs": [],
   "source": [
    "from keras.preprocessing.image import ImageDataGenerator"
   ]
  },
  {
   "cell_type": "code",
   "execution_count": 5,
   "metadata": {},
   "outputs": [],
   "source": [
    "train = ImageDataGenerator(rescale=1/255.,horizontal_flip=True,zoom_range=0.2)\n",
    "test = ImageDataGenerator(rescale=1/255.)"
   ]
  },
  {
   "cell_type": "code",
   "execution_count": null,
   "metadata": {},
   "outputs": [
    {
     "name": "stdout",
     "output_type": "stream",
     "text": [
      "Found 8000 images belonging to 2 classes.\n",
      "Found 2000 images belonging to 2 classes.\n"
     ]
    },
    {
     "name": "stderr",
     "output_type": "stream",
     "text": [
      "E:\\Anaconda3\\lib\\site-packages\\ipykernel_launcher.py:6: UserWarning: The semantics of the Keras 2 argument `steps_per_epoch` is not the same as the Keras 1 argument `samples_per_epoch`. `steps_per_epoch` is the number of batches to draw from the generator at each epoch. Basically steps_per_epoch = samples_per_epoch/batch_size. Similarly `nb_val_samples`->`validation_steps` and `val_samples`->`steps` arguments have changed. Update your method calls accordingly.\n",
      "  \n",
      "E:\\Anaconda3\\lib\\site-packages\\ipykernel_launcher.py:6: UserWarning: Update your `fit_generator` call to the Keras 2 API: `fit_generator(<keras.pre..., validation_data=<keras.pre..., steps_per_epoch=20, epochs=50, validation_steps=2000)`\n",
      "  \n"
     ]
    },
    {
     "name": "stdout",
     "output_type": "stream",
     "text": [
      "Epoch 1/50\n",
      "20/20 [==============================] - 423s 21s/step - loss: 0.7505 - accuracy: 0.4938 - val_loss: 0.6858 - val_accuracy: 0.5006\n",
      "Epoch 2/50\n",
      "20/20 [==============================] - 424s 21s/step - loss: 0.6923 - accuracy: 0.5000 - val_loss: 0.6899 - val_accuracy: 0.5475\n",
      "Epoch 3/50\n",
      "20/20 [==============================] - 276s 14s/step - loss: 0.6879 - accuracy: 0.5406 - val_loss: 0.6903 - val_accuracy: 0.5397\n",
      "Epoch 4/50\n",
      "20/20 [==============================] - 292s 15s/step - loss: 0.6863 - accuracy: 0.5422 - val_loss: 0.7513 - val_accuracy: 0.5050\n",
      "Epoch 5/50\n",
      "20/20 [==============================] - 308s 15s/step - loss: 0.6832 - accuracy: 0.5734 - val_loss: 0.6623 - val_accuracy: 0.5077\n",
      "Epoch 6/50\n",
      "20/20 [==============================] - 269s 13s/step - loss: 0.6833 - accuracy: 0.5719 - val_loss: 0.6448 - val_accuracy: 0.6129\n",
      "Epoch 7/50\n",
      "20/20 [==============================] - 272s 14s/step - loss: 0.6711 - accuracy: 0.5766 - val_loss: 0.6885 - val_accuracy: 0.5650\n",
      "Epoch 8/50\n",
      "20/20 [==============================] - 266s 13s/step - loss: 0.6675 - accuracy: 0.5984 - val_loss: 0.6425 - val_accuracy: 0.5796\n",
      "Epoch 9/50\n",
      "20/20 [==============================] - 266s 13s/step - loss: 0.6645 - accuracy: 0.5859 - val_loss: 0.6612 - val_accuracy: 0.5866\n",
      "Epoch 10/50\n",
      "20/20 [==============================] - 262s 13s/step - loss: 0.6523 - accuracy: 0.6219 - val_loss: 0.6244 - val_accuracy: 0.6660\n",
      "Epoch 11/50\n",
      "20/20 [==============================] - 271s 14s/step - loss: 0.6183 - accuracy: 0.6750 - val_loss: 0.6722 - val_accuracy: 0.6755\n",
      "Epoch 12/50\n",
      "20/20 [==============================] - 262s 13s/step - loss: 0.6519 - accuracy: 0.6234 - val_loss: 0.6031 - val_accuracy: 0.6589\n",
      "Epoch 13/50\n",
      "20/20 [==============================] - 1997s 100s/step - loss: 0.6460 - accuracy: 0.6359 - val_loss: 0.6103 - val_accuracy: 0.6565\n",
      "Epoch 14/50\n",
      "20/20 [==============================] - 303s 15s/step - loss: 0.6563 - accuracy: 0.6062 - val_loss: 0.5708 - val_accuracy: 0.6683\n",
      "Epoch 15/50\n",
      "20/20 [==============================] - 298s 15s/step - loss: 0.6290 - accuracy: 0.6422 - val_loss: 0.4974 - val_accuracy: 0.6617\n",
      "Epoch 16/50\n",
      "20/20 [==============================] - 287s 14s/step - loss: 0.6084 - accuracy: 0.6625 - val_loss: 0.6240 - val_accuracy: 0.6943\n",
      "Epoch 17/50\n",
      "20/20 [==============================] - 270s 14s/step - loss: 0.5651 - accuracy: 0.7172 - val_loss: 0.4354 - val_accuracy: 0.6637\n",
      "Epoch 18/50\n",
      "20/20 [==============================] - 266s 13s/step - loss: 0.5992 - accuracy: 0.6672 - val_loss: 0.6409 - val_accuracy: 0.6663\n",
      "Epoch 19/50\n",
      "19/20 [===========================>..] - ETA: 0s - loss: 0.6182 - accuracy: 0.6628"
     ]
    }
   ],
   "source": [
    "training_set = train.flow_from_directory('dataset/training_set',target_size=(64,64),batch_size=32,class_mode='binary')\n",
    "test_set = test.flow_from_directory('dataset/test_set/',target_size=(64,64),batch_size=32,class_mode='binary')\n",
    "\n",
    "classifier.fit_generator(training_set,nb_val_samples=2000,\n",
    "                         nb_epoch=50,validation_data=test_set,\n",
    "                        steps_per_epoch=20)\n",
    "classifier.save('dog_cat_models.h5')"
   ]
  },
  {
   "cell_type": "code",
   "execution_count": null,
   "metadata": {},
   "outputs": [],
   "source": []
  }
 ],
 "metadata": {
  "kernelspec": {
   "display_name": "Python 3",
   "language": "python",
   "name": "python3"
  },
  "language_info": {
   "codemirror_mode": {
    "name": "ipython",
    "version": 3
   },
   "file_extension": ".py",
   "mimetype": "text/x-python",
   "name": "python",
   "nbconvert_exporter": "python",
   "pygments_lexer": "ipython3",
   "version": "3.7.4"
  }
 },
 "nbformat": 4,
 "nbformat_minor": 2
}

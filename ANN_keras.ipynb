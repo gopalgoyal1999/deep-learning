{
 "cells": [
  {
   "cell_type": "code",
   "execution_count": 26,
   "metadata": {},
   "outputs": [],
   "source": [
    "import tensorflow"
   ]
  },
  {
   "cell_type": "code",
   "execution_count": 27,
   "metadata": {},
   "outputs": [
    {
     "data": {
      "text/plain": [
       "'2.0.0'"
      ]
     },
     "execution_count": 27,
     "metadata": {},
     "output_type": "execute_result"
    }
   ],
   "source": [
    "tensorflow.__version__"
   ]
  },
  {
   "cell_type": "code",
   "execution_count": 28,
   "metadata": {},
   "outputs": [],
   "source": [
    "import keras"
   ]
  },
  {
   "cell_type": "code",
   "execution_count": 29,
   "metadata": {},
   "outputs": [],
   "source": [
    "import numpy as np\n",
    "import pandas as pd\n",
    "from sklearn.preprocessing import LabelEncoder,OneHotEncoder,StandardScaler\n",
    "from sklearn.model_selection import train_test_split"
   ]
  },
  {
   "cell_type": "code",
   "execution_count": 30,
   "metadata": {},
   "outputs": [],
   "source": [
    "import tensorflow as tf\n",
    "import keras"
   ]
  },
  {
   "cell_type": "code",
   "execution_count": 31,
   "metadata": {},
   "outputs": [],
   "source": [
    "from keras.models import Sequential\n",
    "from keras.layers import Dense"
   ]
  },
  {
   "cell_type": "code",
   "execution_count": 32,
   "metadata": {},
   "outputs": [],
   "source": [
    "df=pd.read_csv(\"Churn_Modelling.csv\")"
   ]
  },
  {
   "cell_type": "code",
   "execution_count": 33,
   "metadata": {},
   "outputs": [
    {
     "data": {
      "text/html": [
       "<div>\n",
       "<style scoped>\n",
       "    .dataframe tbody tr th:only-of-type {\n",
       "        vertical-align: middle;\n",
       "    }\n",
       "\n",
       "    .dataframe tbody tr th {\n",
       "        vertical-align: top;\n",
       "    }\n",
       "\n",
       "    .dataframe thead th {\n",
       "        text-align: right;\n",
       "    }\n",
       "</style>\n",
       "<table border=\"1\" class=\"dataframe\">\n",
       "  <thead>\n",
       "    <tr style=\"text-align: right;\">\n",
       "      <th></th>\n",
       "      <th>RowNumber</th>\n",
       "      <th>CustomerId</th>\n",
       "      <th>Surname</th>\n",
       "      <th>CreditScore</th>\n",
       "      <th>Geography</th>\n",
       "      <th>Gender</th>\n",
       "      <th>Age</th>\n",
       "      <th>Tenure</th>\n",
       "      <th>Balance</th>\n",
       "      <th>NumOfProducts</th>\n",
       "      <th>HasCrCard</th>\n",
       "      <th>IsActiveMember</th>\n",
       "      <th>EstimatedSalary</th>\n",
       "      <th>Exited</th>\n",
       "    </tr>\n",
       "  </thead>\n",
       "  <tbody>\n",
       "    <tr>\n",
       "      <td>0</td>\n",
       "      <td>1</td>\n",
       "      <td>15634602</td>\n",
       "      <td>Hargrave</td>\n",
       "      <td>619</td>\n",
       "      <td>France</td>\n",
       "      <td>Female</td>\n",
       "      <td>42</td>\n",
       "      <td>2</td>\n",
       "      <td>0.00</td>\n",
       "      <td>1</td>\n",
       "      <td>1</td>\n",
       "      <td>1</td>\n",
       "      <td>101348.88</td>\n",
       "      <td>1</td>\n",
       "    </tr>\n",
       "    <tr>\n",
       "      <td>1</td>\n",
       "      <td>2</td>\n",
       "      <td>15647311</td>\n",
       "      <td>Hill</td>\n",
       "      <td>608</td>\n",
       "      <td>Spain</td>\n",
       "      <td>Female</td>\n",
       "      <td>41</td>\n",
       "      <td>1</td>\n",
       "      <td>83807.86</td>\n",
       "      <td>1</td>\n",
       "      <td>0</td>\n",
       "      <td>1</td>\n",
       "      <td>112542.58</td>\n",
       "      <td>0</td>\n",
       "    </tr>\n",
       "    <tr>\n",
       "      <td>2</td>\n",
       "      <td>3</td>\n",
       "      <td>15619304</td>\n",
       "      <td>Onio</td>\n",
       "      <td>502</td>\n",
       "      <td>France</td>\n",
       "      <td>Female</td>\n",
       "      <td>42</td>\n",
       "      <td>8</td>\n",
       "      <td>159660.80</td>\n",
       "      <td>3</td>\n",
       "      <td>1</td>\n",
       "      <td>0</td>\n",
       "      <td>113931.57</td>\n",
       "      <td>1</td>\n",
       "    </tr>\n",
       "    <tr>\n",
       "      <td>3</td>\n",
       "      <td>4</td>\n",
       "      <td>15701354</td>\n",
       "      <td>Boni</td>\n",
       "      <td>699</td>\n",
       "      <td>France</td>\n",
       "      <td>Female</td>\n",
       "      <td>39</td>\n",
       "      <td>1</td>\n",
       "      <td>0.00</td>\n",
       "      <td>2</td>\n",
       "      <td>0</td>\n",
       "      <td>0</td>\n",
       "      <td>93826.63</td>\n",
       "      <td>0</td>\n",
       "    </tr>\n",
       "    <tr>\n",
       "      <td>4</td>\n",
       "      <td>5</td>\n",
       "      <td>15737888</td>\n",
       "      <td>Mitchell</td>\n",
       "      <td>850</td>\n",
       "      <td>Spain</td>\n",
       "      <td>Female</td>\n",
       "      <td>43</td>\n",
       "      <td>2</td>\n",
       "      <td>125510.82</td>\n",
       "      <td>1</td>\n",
       "      <td>1</td>\n",
       "      <td>1</td>\n",
       "      <td>79084.10</td>\n",
       "      <td>0</td>\n",
       "    </tr>\n",
       "  </tbody>\n",
       "</table>\n",
       "</div>"
      ],
      "text/plain": [
       "   RowNumber  CustomerId   Surname  CreditScore Geography  Gender  Age  \\\n",
       "0          1    15634602  Hargrave          619    France  Female   42   \n",
       "1          2    15647311      Hill          608     Spain  Female   41   \n",
       "2          3    15619304      Onio          502    France  Female   42   \n",
       "3          4    15701354      Boni          699    France  Female   39   \n",
       "4          5    15737888  Mitchell          850     Spain  Female   43   \n",
       "\n",
       "   Tenure    Balance  NumOfProducts  HasCrCard  IsActiveMember  \\\n",
       "0       2       0.00              1          1               1   \n",
       "1       1   83807.86              1          0               1   \n",
       "2       8  159660.80              3          1               0   \n",
       "3       1       0.00              2          0               0   \n",
       "4       2  125510.82              1          1               1   \n",
       "\n",
       "   EstimatedSalary  Exited  \n",
       "0        101348.88       1  \n",
       "1        112542.58       0  \n",
       "2        113931.57       1  \n",
       "3         93826.63       0  \n",
       "4         79084.10       0  "
      ]
     },
     "execution_count": 33,
     "metadata": {},
     "output_type": "execute_result"
    }
   ],
   "source": [
    "df.head()"
   ]
  },
  {
   "cell_type": "code",
   "execution_count": 34,
   "metadata": {},
   "outputs": [],
   "source": [
    "X=df.iloc[:,3:-1].values\n",
    "y=df.iloc[:,-1].values"
   ]
  },
  {
   "cell_type": "code",
   "execution_count": 35,
   "metadata": {},
   "outputs": [],
   "source": [
    "label=LabelEncoder()"
   ]
  },
  {
   "cell_type": "code",
   "execution_count": 36,
   "metadata": {},
   "outputs": [],
   "source": [
    "X[:,1]=label.fit_transform(X[:,1])\n",
    "X[:,2]=label.fit_transform(X[:,2])"
   ]
  },
  {
   "cell_type": "code",
   "execution_count": 37,
   "metadata": {},
   "outputs": [],
   "source": [
    "onehot=OneHotEncoder(categorical_features=[1])"
   ]
  },
  {
   "cell_type": "code",
   "execution_count": 38,
   "metadata": {},
   "outputs": [
    {
     "name": "stderr",
     "output_type": "stream",
     "text": [
      "E:\\Anaconda3\\lib\\site-packages\\sklearn\\preprocessing\\_encoders.py:415: FutureWarning: The handling of integer data will change in version 0.22. Currently, the categories are determined based on the range [0, max(values)], while in the future they will be determined based on the unique values.\n",
      "If you want the future behaviour and silence this warning, you can specify \"categories='auto'\".\n",
      "In case you used a LabelEncoder before this OneHotEncoder to convert the categories to integers, then you can now use the OneHotEncoder directly.\n",
      "  warnings.warn(msg, FutureWarning)\n",
      "E:\\Anaconda3\\lib\\site-packages\\sklearn\\preprocessing\\_encoders.py:451: DeprecationWarning: The 'categorical_features' keyword is deprecated in version 0.20 and will be removed in 0.22. You can use the ColumnTransformer instead.\n",
      "  \"use the ColumnTransformer instead.\", DeprecationWarning)\n"
     ]
    }
   ],
   "source": [
    "X = onehot.fit_transform(x).toarray()\n",
    "X = X[:, 1:]"
   ]
  },
  {
   "cell_type": "code",
   "execution_count": 39,
   "metadata": {},
   "outputs": [
    {
     "data": {
      "text/plain": [
       "(10000, 11)"
      ]
     },
     "execution_count": 39,
     "metadata": {},
     "output_type": "execute_result"
    }
   ],
   "source": [
    "X.shape"
   ]
  },
  {
   "cell_type": "code",
   "execution_count": 42,
   "metadata": {},
   "outputs": [
    {
     "name": "stderr",
     "output_type": "stream",
     "text": [
      "E:\\Anaconda3\\lib\\site-packages\\ipykernel_launcher.py:11: UserWarning: Update your `Dense` call to the Keras 2 API: `Dense(input_dim=11, activation=\"relu\", units=6, kernel_initializer=\"uniform\")`\n",
      "  # This is added back by InteractiveShellApp.init_path()\n",
      "E:\\Anaconda3\\lib\\site-packages\\ipykernel_launcher.py:12: UserWarning: Update your `Dense` call to the Keras 2 API: `Dense(activation=\"relu\", units=6, kernel_initializer=\"uniform\")`\n",
      "  if sys.path[0] == '':\n",
      "E:\\Anaconda3\\lib\\site-packages\\ipykernel_launcher.py:13: UserWarning: Update your `Dense` call to the Keras 2 API: `Dense(activation=\"relu\", units=6, kernel_initializer=\"uniform\")`\n",
      "  del sys.path[0]\n",
      "E:\\Anaconda3\\lib\\site-packages\\ipykernel_launcher.py:14: UserWarning: Update your `Dense` call to the Keras 2 API: `Dense(activation=\"relu\", units=6, kernel_initializer=\"uniform\")`\n",
      "  \n",
      "E:\\Anaconda3\\lib\\site-packages\\ipykernel_launcher.py:15: UserWarning: Update your `Dense` call to the Keras 2 API: `Dense(activation=\"sigmoid\", units=1, kernel_initializer=\"uniform\")`\n",
      "  from ipykernel import kernelapp as app\n",
      "E:\\Anaconda3\\lib\\site-packages\\ipykernel_launcher.py:17: UserWarning: The `nb_epoch` argument in `fit` has been renamed `epochs`.\n"
     ]
    },
    {
     "name": "stdout",
     "output_type": "stream",
     "text": [
      "Epoch 1/50\n",
      "8000/8000 [==============================] - 2s 274us/step - loss: 0.4840 - accuracy: 0.7960\n",
      "Epoch 2/50\n",
      "8000/8000 [==============================] - 2s 191us/step - loss: 0.4312 - accuracy: 0.7960\n",
      "Epoch 3/50\n",
      "8000/8000 [==============================] - 2s 200us/step - loss: 0.4271 - accuracy: 0.7960\n",
      "Epoch 4/50\n",
      "8000/8000 [==============================] - 2s 190us/step - loss: 0.4228 - accuracy: 0.8123\n",
      "Epoch 5/50\n",
      "8000/8000 [==============================] - 1s 182us/step - loss: 0.4191 - accuracy: 0.8215\n",
      "Epoch 6/50\n",
      "8000/8000 [==============================] - 1s 184us/step - loss: 0.4170 - accuracy: 0.8286\n",
      "Epoch 7/50\n",
      "8000/8000 [==============================] - 1s 181us/step - loss: 0.4153 - accuracy: 0.8310\n",
      "Epoch 8/50\n",
      "8000/8000 [==============================] - 1s 186us/step - loss: 0.4128 - accuracy: 0.8324\n",
      "Epoch 9/50\n",
      "8000/8000 [==============================] - 1s 183us/step - loss: 0.4111 - accuracy: 0.8324\n",
      "Epoch 10/50\n",
      "8000/8000 [==============================] - 1s 180us/step - loss: 0.4105 - accuracy: 0.8328\n",
      "Epoch 11/50\n",
      "8000/8000 [==============================] - 1s 184us/step - loss: 0.4089 - accuracy: 0.8338\n",
      "Epoch 12/50\n",
      "8000/8000 [==============================] - 1s 179us/step - loss: 0.4082 - accuracy: 0.8341\n",
      "Epoch 13/50\n",
      "8000/8000 [==============================] - 1s 182us/step - loss: 0.4083 - accuracy: 0.8365\n",
      "Epoch 14/50\n",
      "8000/8000 [==============================] - 2s 211us/step - loss: 0.4070 - accuracy: 0.8329\n",
      "Epoch 15/50\n",
      "8000/8000 [==============================] - 1s 185us/step - loss: 0.4069 - accuracy: 0.8345\n",
      "Epoch 16/50\n",
      "8000/8000 [==============================] - 1s 183us/step - loss: 0.4061 - accuracy: 0.8339\n",
      "Epoch 17/50\n",
      "8000/8000 [==============================] - 1s 185us/step - loss: 0.4059 - accuracy: 0.8356\n",
      "Epoch 18/50\n",
      "8000/8000 [==============================] - 2s 190us/step - loss: 0.4055 - accuracy: 0.8347\n",
      "Epoch 19/50\n",
      "8000/8000 [==============================] - 2s 196us/step - loss: 0.4045 - accuracy: 0.8361\n",
      "Epoch 20/50\n",
      "8000/8000 [==============================] - 2s 216us/step - loss: 0.4043 - accuracy: 0.8340\n",
      "Epoch 21/50\n",
      "8000/8000 [==============================] - 2s 216us/step - loss: 0.4045 - accuracy: 0.8346\n",
      "Epoch 22/50\n",
      "8000/8000 [==============================] - 2s 192us/step - loss: 0.4039 - accuracy: 0.8357\n",
      "Epoch 23/50\n",
      "8000/8000 [==============================] - 2s 191us/step - loss: 0.4044 - accuracy: 0.8346\n",
      "Epoch 24/50\n",
      "8000/8000 [==============================] - 2s 207us/step - loss: 0.4043 - accuracy: 0.8350\n",
      "Epoch 25/50\n",
      "8000/8000 [==============================] - 2s 198us/step - loss: 0.4042 - accuracy: 0.8345\n",
      "Epoch 26/50\n",
      "8000/8000 [==============================] - 1s 187us/step - loss: 0.4030 - accuracy: 0.8353\n",
      "Epoch 27/50\n",
      "8000/8000 [==============================] - 1s 185us/step - loss: 0.4032 - accuracy: 0.8357\n",
      "Epoch 28/50\n",
      "8000/8000 [==============================] - 2s 188us/step - loss: 0.4035 - accuracy: 0.8367\n",
      "Epoch 29/50\n",
      "8000/8000 [==============================] - 1s 185us/step - loss: 0.4030 - accuracy: 0.8334\n",
      "Epoch 30/50\n",
      "8000/8000 [==============================] - 2s 215us/step - loss: 0.4029 - accuracy: 0.8335\n",
      "Epoch 31/50\n",
      "8000/8000 [==============================] - 2s 200us/step - loss: 0.4037 - accuracy: 0.8344\n",
      "Epoch 32/50\n",
      "8000/8000 [==============================] - 2s 194us/step - loss: 0.4025 - accuracy: 0.8347\n",
      "Epoch 33/50\n",
      "8000/8000 [==============================] - 1s 187us/step - loss: 0.4028 - accuracy: 0.8356\n",
      "Epoch 34/50\n",
      "8000/8000 [==============================] - 2s 197us/step - loss: 0.4028 - accuracy: 0.8349\n",
      "Epoch 35/50\n",
      "8000/8000 [==============================] - 2s 207us/step - loss: 0.4027 - accuracy: 0.8339\n",
      "Epoch 36/50\n",
      "8000/8000 [==============================] - 2s 188us/step - loss: 0.4017 - accuracy: 0.8361\n",
      "Epoch 37/50\n",
      "8000/8000 [==============================] - 1s 186us/step - loss: 0.4027 - accuracy: 0.8346\n",
      "Epoch 38/50\n",
      "8000/8000 [==============================] - 2s 190us/step - loss: 0.4024 - accuracy: 0.8340\n",
      "Epoch 39/50\n",
      "8000/8000 [==============================] - 2s 199us/step - loss: 0.4018 - accuracy: 0.8361\n",
      "Epoch 40/50\n",
      "8000/8000 [==============================] - 2s 188us/step - loss: 0.4025 - accuracy: 0.8347\n",
      "Epoch 41/50\n",
      "8000/8000 [==============================] - 2s 190us/step - loss: 0.4019 - accuracy: 0.8349\n",
      "Epoch 42/50\n",
      "8000/8000 [==============================] - 2s 189us/step - loss: 0.4018 - accuracy: 0.8351\n",
      "Epoch 43/50\n",
      "8000/8000 [==============================] - 2s 194us/step - loss: 0.4013 - accuracy: 0.8354\n",
      "Epoch 44/50\n",
      "8000/8000 [==============================] - 2s 210us/step - loss: 0.4020 - accuracy: 0.8344\n",
      "Epoch 45/50\n",
      "8000/8000 [==============================] - 2s 220us/step - loss: 0.4017 - accuracy: 0.8354\n",
      "Epoch 46/50\n",
      "8000/8000 [==============================] - 2s 194us/step - loss: 0.4016 - accuracy: 0.8355\n",
      "Epoch 47/50\n",
      "8000/8000 [==============================] - 2s 204us/step - loss: 0.4017 - accuracy: 0.8353\n",
      "Epoch 48/50\n",
      "8000/8000 [==============================] - 2s 202us/step - loss: 0.4017 - accuracy: 0.8347\n",
      "Epoch 49/50\n",
      "8000/8000 [==============================] - 2s 193us/step - loss: 0.4025 - accuracy: 0.8361\n",
      "Epoch 50/50\n",
      "8000/8000 [==============================] - 2s 194us/step - loss: 0.4018 - accuracy: 0.8353\n"
     ]
    }
   ],
   "source": [
    "from sklearn.model_selection import train_test_split\n",
    "X_train, X_test, y_train, y_test = train_test_split(X, y, test_size = 0.2, random_state = 0)\n",
    "from sklearn.preprocessing import StandardScaler\n",
    "sc = StandardScaler()\n",
    "X_train = sc.fit_transform(X_train)\n",
    "X_test = sc.transform(X_test)\n",
    "import keras\n",
    "from keras.models import Sequential\n",
    "from keras.layers import Dense\n",
    "classifier = Sequential()\n",
    "classifier.add(Dense(input_dim = 11, output_dim = 6, init = 'uniform', activation = 'relu'))\n",
    "classifier.add(Dense(output_dim = 6, init = 'uniform', activation = 'relu'))\n",
    "classifier.add(Dense(output_dim = 6, init = 'uniform', activation = 'relu'))\n",
    "classifier.add(Dense(output_dim = 6, init = 'uniform', activation = 'relu'))\n",
    "classifier.add(Dense(output_dim = 1, init = 'uniform', activation = 'sigmoid'))\n",
    "classifier.compile(optimizer = 'adam', loss = 'binary_crossentropy', metrics = ['accuracy'])\n",
    "classifier.fit(X_train, y_train, batch_size = 10, nb_epoch = 50)\n",
    "y_pred = classifier.predict(X_test)\n",
    "y_pred = (y_pred > 0.5)\n",
    "from sklearn.metrics import confusion_matrix\n",
    "cm = confusion_matrix(y_test, y_pred)"
   ]
  },
  {
   "cell_type": "code",
   "execution_count": null,
   "metadata": {},
   "outputs": [],
   "source": []
  }
 ],
 "metadata": {
  "kernelspec": {
   "display_name": "Python 3",
   "language": "python",
   "name": "python3"
  },
  "language_info": {
   "codemirror_mode": {
    "name": "ipython",
    "version": 3
   },
   "file_extension": ".py",
   "mimetype": "text/x-python",
   "name": "python",
   "nbconvert_exporter": "python",
   "pygments_lexer": "ipython3",
   "version": "3.7.4"
  }
 },
 "nbformat": 4,
 "nbformat_minor": 4
}

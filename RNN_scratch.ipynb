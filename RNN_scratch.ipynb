{
 "cells": [
  {
   "cell_type": "code",
   "execution_count": 1,
   "metadata": {},
   "outputs": [],
   "source": [
    "import numpy as np\n",
    "import copy"
   ]
  },
  {
   "cell_type": "code",
   "execution_count": 2,
   "metadata": {},
   "outputs": [],
   "source": [
    "def sigmoid(x):\n",
    "    return 1/(1+np.exp(-x))\n",
    "\n",
    "def derivativeSigmoid(x):\n",
    "    return x*(1-x)"
   ]
  },
  {
   "cell_type": "code",
   "execution_count": 5,
   "metadata": {},
   "outputs": [],
   "source": [
    "int2bin = {}\n",
    "binary_dim = 8\n",
    "largest_num = pow(2,binary_dim)"
   ]
  },
  {
   "cell_type": "code",
   "execution_count": 6,
   "metadata": {},
   "outputs": [
    {
     "data": {
      "text/plain": [
       "256"
      ]
     },
     "execution_count": 6,
     "metadata": {},
     "output_type": "execute_result"
    }
   ],
   "source": [
    "largest_num"
   ]
  },
  {
   "cell_type": "code",
   "execution_count": 7,
   "metadata": {},
   "outputs": [],
   "source": [
    "binary = np.unpackbits(np.array([range(largest_num)],dtype=np.uint8).T,axis=1)"
   ]
  },
  {
   "cell_type": "code",
   "execution_count": 8,
   "metadata": {},
   "outputs": [
    {
     "data": {
      "text/plain": [
       "array([[0, 0, 0, ..., 0, 0, 0],\n",
       "       [0, 0, 0, ..., 0, 0, 1],\n",
       "       [0, 0, 0, ..., 0, 1, 0],\n",
       "       ...,\n",
       "       [1, 1, 1, ..., 1, 0, 1],\n",
       "       [1, 1, 1, ..., 1, 1, 0],\n",
       "       [1, 1, 1, ..., 1, 1, 1]], dtype=uint8)"
      ]
     },
     "execution_count": 8,
     "metadata": {},
     "output_type": "execute_result"
    }
   ],
   "source": [
    "binary"
   ]
  },
  {
   "cell_type": "code",
   "execution_count": 9,
   "metadata": {},
   "outputs": [
    {
     "data": {
      "text/plain": [
       "(256, 8)"
      ]
     },
     "execution_count": 9,
     "metadata": {},
     "output_type": "execute_result"
    }
   ],
   "source": [
    "binary.shape"
   ]
  },
  {
   "cell_type": "code",
   "execution_count": 11,
   "metadata": {},
   "outputs": [],
   "source": [
    "for i in range(largest_num):\n",
    "    int2bin[i] = binary [i]"
   ]
  },
  {
   "cell_type": "code",
   "execution_count": 12,
   "metadata": {},
   "outputs": [],
   "source": [
    "alpha = 0.1\n",
    "input_neurons = 2\n",
    "hidden_neurons = 16\n",
    "output_neurons = 1"
   ]
  },
  {
   "cell_type": "code",
   "execution_count": 13,
   "metadata": {},
   "outputs": [],
   "source": [
    "whidden = np.random.random((input_neurons,hidden_neurons))\n",
    "wout = np.random.random((hidden_neurons,output_neurons))\n",
    "wtime = np.random.random((hidden_neurons,hidden_neurons))"
   ]
  },
  {
   "cell_type": "code",
   "execution_count": 14,
   "metadata": {},
   "outputs": [],
   "source": [
    "wh_update = np.zeros_like(whidden)\n",
    "wo_update = np.zeros_like(wout)\n",
    "wt_update = np.zeros_like(wtime)\n"
   ]
  },
  {
   "cell_type": "code",
   "execution_count": null,
   "metadata": {},
   "outputs": [
    {
     "name": "stdout",
     "output_type": "stream",
     "text": [
      "Error [3.74864723]\n",
      "Pred [  0 255   0   0   0 255   0   0]\n",
      "True [1 0 1 1 1 0 1 1]\n",
      "Prediction => 82 +105=17340\n",
      "true => 82 +105=187\n",
      "##################################################\n"
     ]
    }
   ],
   "source": [
    "epochs=100000\n",
    "for epoch in range(epochs):\n",
    "    # feedforward\n",
    "    a_int = np.random.randint(largest_num/2)\n",
    "    a = int2bin[a_int]\n",
    "    b_int = np.random.randint(largest_num/2)\n",
    "    b = int2bin[b_int]\n",
    "    \n",
    "    c_int = a_int + b_int\n",
    "    c = int2bin[c_int]\n",
    "    \n",
    "    d = np.zeros_like(c)\n",
    "    overAllError = 0\n",
    "    \n",
    "    layer_1_values = list()\n",
    "    layer_2_deltas  = list()\n",
    "    layer_1_values.append(np.zeros(hidden_neurons))\n",
    "    \n",
    "    for position in range(binary_dim):\n",
    "        X = np.array([[a[binary_dim - position - 1], b[binary_dim - position - 1]]])\n",
    "        Y = np.array([[c[binary_dim - position - 1]]]).T\n",
    "        \n",
    "        #hidden layer\n",
    "        layer_1 = sigmoid(np.dot(X,whidden)+np.dot(layer_1_values[-1],wtime))\n",
    "        #output layer\n",
    "        layer_2 = sigmoid(np.dot(layer_1,wout))\n",
    "        \n",
    "        #output layer error\n",
    "        layer_2_error = Y - layer_2\n",
    "        slope_output = derivativeSigmoid(layer_2)\n",
    "        delta_output = layer_2_error * slope_output\n",
    "        layer_2_deltas.append(delta_output)\n",
    "        \n",
    "        overAllError += np.abs(layer_2_error[0])\n",
    "        d[binary_dim - position -1 ] = np.round(layer_2_error[0][0])\n",
    "        \n",
    "        #storing hidden layer to use in next time step\n",
    "        layer_1_values.append((copy.deepcopy(layer_1)))\n",
    "        \n",
    "    future_layer_1_delta =  np.zeros(hidden_neurons)\n",
    "    \n",
    "    for position in range(binary_dim):\n",
    "        x =  np.array([[a[position-1],b[position-1]]])\n",
    "        layer_1 =layer_1_values[-position-1]\n",
    "        prev_layer_1 = layer_1_values[-position-2]\n",
    "        \n",
    "        #error at output layer\n",
    "        layer_2_delta = layer_2_deltas[-position-1]\n",
    "        \n",
    "        #error at hidden layer\n",
    "        slope_hidden = derivativeSigmoid(layer_1)\n",
    "        error_hidden = (future_layer_1_delta.dot(wtime.T)+layer_2_delta.dot(wout.T))\n",
    "        layer_1_delta = error_hidden*slope_hidden\n",
    "        \n",
    "        wo_update +=np.atleast_2d(layer_1).T.dot(layer_2_delta)\n",
    "        wt_update +=np.atleast_2d(prev_layer_1).T.dot(layer_2_delta)\n",
    "        wh_update +=X.T.dot(layer_1_delta)\n",
    "        \n",
    "    whidden +=wh_update*alpha\n",
    "    wout +=wo_update*alpha\n",
    "    wtime +=wt_update*alpha\n",
    "\n",
    "    wo_update *=0\n",
    "    wh_update *=0\n",
    "    wt_update *=0\n",
    "\n",
    "    if(epoch % 10000 ==0):\n",
    "        print(\"Error\",overAllError)\n",
    "        print(\"Pred\",d)\n",
    "        print(\"True\",c)\n",
    "        out=0\n",
    "        for index,x in enumerate(reversed(d)):\n",
    "            out +=x*pow(2,index)\n",
    "        print(\"Prediction => {} +{}={}\".format(a_int,b_int,out))\n",
    "        print(\"true => {} +{}={}\".format(a_int,b_int,c_int))\n",
    "        print(\"#\"*50)"
   ]
  },
  {
   "cell_type": "code",
   "execution_count": null,
   "metadata": {},
   "outputs": [],
   "source": []
  }
 ],
 "metadata": {
  "kernelspec": {
   "display_name": "Python 3",
   "language": "python",
   "name": "python3"
  },
  "language_info": {
   "codemirror_mode": {
    "name": "ipython",
    "version": 3
   },
   "file_extension": ".py",
   "mimetype": "text/x-python",
   "name": "python",
   "nbconvert_exporter": "python",
   "pygments_lexer": "ipython3",
   "version": "3.7.4"
  }
 },
 "nbformat": 4,
 "nbformat_minor": 2
}
